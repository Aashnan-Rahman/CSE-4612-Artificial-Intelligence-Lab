{
  "nbformat": 4,
  "nbformat_minor": 0,
  "metadata": {
    "colab": {
      "provenance": []
    },
    "kernelspec": {
      "name": "python3",
      "display_name": "Python 3"
    },
    "language_info": {
      "name": "python"
    }
  },
  "cells": [
    {
      "cell_type": "markdown",
      "source": [
        "<h2>Task 1<h2>"
      ],
      "metadata": {
        "id": "ewgkQwqj9ifQ"
      }
    },
    {
      "cell_type": "code",
      "source": [
        "Domain = ['S','B','K','P']"
      ],
      "metadata": {
        "id": "5gyiCVnX9upV"
      },
      "execution_count": 1,
      "outputs": []
    },
    {
      "cell_type": "code",
      "source": [
        "Z = Domain\n",
        "I = Domain\n",
        "F = Domain\n",
        "N = Domain"
      ],
      "metadata": {
        "id": "FpsAC_P89L_J"
      },
      "execution_count": 2,
      "outputs": []
    },
    {
      "cell_type": "code",
      "source": [
        "combinations = []\n",
        "\n",
        "for element1 in Z:\n",
        "    for element2 in I:\n",
        "      for element3 in F:\n",
        "        for element4 in N:\n",
        "            combination = (element1, element2, element3, element4)\n",
        "            combinations.append(combination)"
      ],
      "metadata": {
        "id": "0_c7Xam4-Ars"
      },
      "execution_count": 3,
      "outputs": []
    },
    {
      "cell_type": "code",
      "source": [
        "slns = []\n",
        "\n",
        "for x in combinations:\n",
        "  z,i,f,n = x\n",
        "  count = 0\n",
        "\n",
        "  if(z!='P'):\n",
        "    count+=1\n",
        "\n",
        "  if(i != f):\n",
        "    count+=1\n",
        "\n",
        "  if(f=='B' or f =='S'):\n",
        "    count+=1\n",
        "\n",
        "  if(z==i and z!=n and z!=f):\n",
        "    count+=1\n",
        "\n",
        "  if(n!='K'):\n",
        "    count+=1\n",
        "\n",
        "  if(count == 5):\n",
        "    slns.append(x)"
      ],
      "metadata": {
        "id": "uyCG6xvd-wX4"
      },
      "execution_count": 11,
      "outputs": []
    },
    {
      "cell_type": "code",
      "source": [
        "slns"
      ],
      "metadata": {
        "colab": {
          "base_uri": "https://localhost:8080/"
        },
        "id": "f3EgmRPS_Zjq",
        "outputId": "b49d16bf-baf4-478b-bc0b-150f03599136"
      },
      "execution_count": 12,
      "outputs": [
        {
          "output_type": "execute_result",
          "data": {
            "text/plain": [
              "[('S', 'S', 'B', 'B'),\n",
              " ('S', 'S', 'B', 'P'),\n",
              " ('B', 'B', 'S', 'S'),\n",
              " ('B', 'B', 'S', 'P'),\n",
              " ('K', 'K', 'S', 'S'),\n",
              " ('K', 'K', 'S', 'B'),\n",
              " ('K', 'K', 'S', 'P'),\n",
              " ('K', 'K', 'B', 'S'),\n",
              " ('K', 'K', 'B', 'B'),\n",
              " ('K', 'K', 'B', 'P')]"
            ]
          },
          "metadata": {},
          "execution_count": 12
        }
      ]
    },
    {
      "cell_type": "markdown",
      "source": [
        "<h3>Task 2 </h3>"
      ],
      "metadata": {
        "id": "tu-GNRE4ALaf"
      }
    },
    {
      "cell_type": "code",
      "source": [
        "Domain = [1,2,3]"
      ],
      "metadata": {
        "id": "4ybH0GAWAHTj"
      },
      "execution_count": 13,
      "outputs": []
    },
    {
      "cell_type": "code",
      "source": [
        "A = Domain\n",
        "M = Domain\n",
        "R = Domain\n",
        "S = Domain"
      ],
      "metadata": {
        "id": "7hNNA1VFARuf"
      },
      "execution_count": 14,
      "outputs": []
    },
    {
      "cell_type": "code",
      "source": [
        "combinations = []\n",
        "\n",
        "for element1 in A:\n",
        "    for element2 in S:\n",
        "      for element3 in M:\n",
        "        for element4 in R:\n",
        "            combination = (element1, element2, element3, element4)\n",
        "            combinations.append(combination)"
      ],
      "metadata": {
        "id": "yIsXBJFDAXTy"
      },
      "execution_count": 16,
      "outputs": []
    },
    {
      "cell_type": "code",
      "source": [
        "slns = []\n",
        "\n",
        "for x in combinations:\n",
        "  a,s,m,r = x\n",
        "  count = 0\n",
        "\n",
        "  if(a!=s):\n",
        "    count+=1\n",
        "\n",
        "  if((a==m and a==2) or (a!=m and (a==3 or m==3))):\n",
        "    count+=1\n",
        "\n",
        "  if(r!=a and r!=m and r!=s):\n",
        "    count+=1\n",
        "\n",
        "  if(r>m):\n",
        "    count+=1\n",
        "\n",
        "  if(count == 4):\n",
        "    slns.append(x)"
      ],
      "metadata": {
        "id": "7fqBmsX-AZd7"
      },
      "execution_count": 25,
      "outputs": []
    },
    {
      "cell_type": "code",
      "source": [
        "slns"
      ],
      "metadata": {
        "colab": {
          "base_uri": "https://localhost:8080/"
        },
        "id": "QmoOHN3UBL5m",
        "outputId": "c4861b8c-1220-4adf-da6d-ac53e19ad320"
      },
      "execution_count": 26,
      "outputs": [
        {
          "output_type": "execute_result",
          "data": {
            "text/plain": [
              "[(2, 1, 2, 3), (3, 1, 1, 2)]"
            ]
          },
          "metadata": {},
          "execution_count": 26
        }
      ]
    },
    {
      "cell_type": "markdown",
      "source": [
        "<h2>Task 4<h2>"
      ],
      "metadata": {
        "id": "iY1e_DrI9LG9"
      }
    },
    {
      "cell_type": "code",
      "execution_count": null,
      "metadata": {
        "id": "yL4Bm13rfB6d"
      },
      "outputs": [],
      "source": [
        "Domain = ['X1','X2','X3', 'X4','Y1' ,'Y2', 'Y3', 'Y4']"
      ]
    },
    {
      "cell_type": "code",
      "source": [
        "G = Domain\n",
        "Q = Domain\n",
        "L = Domain\n",
        "C = Domain\n",
        "T = Domain"
      ],
      "metadata": {
        "id": "nRMCw3TGfQc5"
      },
      "execution_count": null,
      "outputs": []
    },
    {
      "cell_type": "code",
      "source": [
        "combinations = []\n",
        "\n",
        "for element1 in G:\n",
        "    for element2 in Q:\n",
        "      for element3 in C:\n",
        "        for element4 in T:\n",
        "          for element5 in L:\n",
        "              combination = (element1, element2, element3, element4, element5)\n",
        "              combinations.append(combination)"
      ],
      "metadata": {
        "id": "F300rdEBfmZN"
      },
      "execution_count": null,
      "outputs": []
    },
    {
      "cell_type": "code",
      "source": [
        "len(combinations)"
      ],
      "metadata": {
        "colab": {
          "base_uri": "https://localhost:8080/"
        },
        "id": "G6bqhGVrgR_3",
        "outputId": "03e26709-de9f-47da-ccb8-c34652e312c5"
      },
      "execution_count": null,
      "outputs": [
        {
          "output_type": "execute_result",
          "data": {
            "text/plain": [
              "32768"
            ]
          },
          "metadata": {},
          "execution_count": 13
        }
      ]
    },
    {
      "cell_type": "code",
      "source": [
        "combinations"
      ],
      "metadata": {
        "id": "8Em197sviRk5"
      },
      "execution_count": null,
      "outputs": []
    },
    {
      "cell_type": "code",
      "source": [
        "slns = []\n",
        "\n",
        "for x in combinations:\n",
        "  g,q,c,t,l = x\n",
        "  count = 0\n",
        "\n",
        "  # At any given time, each faculty member can do at most one task (G, Q, A, T, L)\n",
        "  if ( g!=q and g!=c and g!=t and g!=l and q!=c and q!=t and q!=l and g!=l and c!=t and c!=l and t!=l ):\n",
        "    count+=1\n",
        "\n",
        "  #The AI class (C) must happen before AI lab (L).  [ C < L]\n",
        "  if(c[1] < l[1]):\n",
        "    count +=1\n",
        "\n",
        "  #The contents (G) should be gathered before taking the TRW Lab (T).  [G < T]\n",
        "  if(g[1] < t[1]):\n",
        "    count +=1\n",
        "\n",
        "  #The TRW Lab (T) should be finished by 10 am.    [T = {X1,X2,Y1,Y2}]\n",
        "  if( t[1] == '1' or t[1] == '2'):\n",
        "    count +=1\n",
        "\n",
        "  #X is going to gather contents for TRW (G) since s/he’s good at browsing contents.\t\t[G = {X1,X2,X3,X4}]\n",
        "  if( g[0] == 'X'):\n",
        "    count +=1\n",
        "\n",
        "  #The person taking TRW Lab (T) does not take AI Lab (L) [T != L]\n",
        "  if( t[0]!=l[0] ):\n",
        "    count+=1\n",
        "\n",
        "  #The person taking AI Lab (L) must also take the AI class (C) [C= L]\n",
        "  if( l[0]==c[0] ):\n",
        "    count+=1\n",
        "\n",
        "  #Checking quiz scripts (Q) takes 2 consecutive hours and hence should start at or before 10 am.  \t[Q != {1,2,3}]\n",
        "  if( q[1]=='1' or q[1]=='2' or q[1]=='3'):\n",
        "    count+=1\n",
        "\n",
        "  #Taking AI Lab (L) takes 2 consecutive hours and hence should start at or before 10 am.\t\t[L == {1,2,3}]\n",
        "  if( l[1]=='1' or l[1]=='2' or l[1]=='3'):\n",
        "    count+=1\n",
        "\n",
        "  #The other faculty member not conducting TRW lab (T) should attend the lab, and hence cannot do anything else at that time.\n",
        "  if(t[1]!=g[1] and t[1]!=q[1] and t[1]!=c[1] and t[1]!=l[1]):\n",
        "     count+=1\n",
        "\n",
        "  if(count==10):\n",
        "    slns.append(x)\n",
        "\n",
        "#len(slns)\n",
        "slns"
      ],
      "metadata": {
        "colab": {
          "base_uri": "https://localhost:8080/"
        },
        "id": "0JETFBJ9gitI",
        "outputId": "02fca7db-60ef-42ed-9fc2-3c0c9df2c2d4"
      },
      "execution_count": null,
      "outputs": [
        {
          "output_type": "execute_result",
          "data": {
            "text/plain": [
              "[('X1', 'X3', 'Y1', 'X2', 'Y3')]"
            ]
          },
          "metadata": {},
          "execution_count": 73
        }
      ]
    },
    {
      "cell_type": "code",
      "source": [
        "  G     Q     C     T     L\n",
        "('X1', 'X3', 'Y1', 'X2', 'Y3'),\n",
        "('X1', 'Y3', 'Y1', 'X2', 'Y3')]\n"
      ],
      "metadata": {
        "id": "6OYj8NEZvMFQ"
      },
      "execution_count": null,
      "outputs": []
    },
    {
      "cell_type": "code",
      "source": [
        "temp = []\n",
        "\n",
        "for element1 in G:\n",
        "    for element2 in Q:\n",
        "      temp.append((element1,element2))\n",
        "\n",
        "for x in temp:\n",
        "  #g,q,c,t,l = x\n",
        "  count = 0\n",
        "  g,q = x\n",
        "\n",
        "  # At any given time, each faculty member can do at most one task (G, Q, A, T, L)\n",
        "  if ( g!=q and g!=c and g!=t and g!=l):\n",
        "    print(g,q)"
      ],
      "metadata": {
        "colab": {
          "base_uri": "https://localhost:8080/"
        },
        "id": "cu9M19d6vqP-",
        "outputId": "09aa9ed5-6e7a-4be7-b2d2-171fb78353c9"
      },
      "execution_count": null,
      "outputs": [
        {
          "output_type": "stream",
          "name": "stdout",
          "text": [
            "X1 X2\n",
            "X1 X3\n",
            "X1 X4\n",
            "X1 Y1\n",
            "X1 Y2\n",
            "X1 Y3\n",
            "X1 Y4\n",
            "X2 X1\n",
            "X2 X3\n",
            "X2 X4\n",
            "X2 Y1\n",
            "X2 Y2\n",
            "X2 Y3\n",
            "X2 Y4\n",
            "X3 X1\n",
            "X3 X2\n",
            "X3 X4\n",
            "X3 Y1\n",
            "X3 Y2\n",
            "X3 Y3\n",
            "X3 Y4\n",
            "X4 X1\n",
            "X4 X2\n",
            "X4 X3\n",
            "X4 Y1\n",
            "X4 Y2\n",
            "X4 Y3\n",
            "X4 Y4\n",
            "Y1 X1\n",
            "Y1 X2\n",
            "Y1 X3\n",
            "Y1 X4\n",
            "Y1 Y2\n",
            "Y1 Y3\n",
            "Y1 Y4\n",
            "Y2 X1\n",
            "Y2 X2\n",
            "Y2 X3\n",
            "Y2 X4\n",
            "Y2 Y1\n",
            "Y2 Y3\n",
            "Y2 Y4\n",
            "Y3 X1\n",
            "Y3 X2\n",
            "Y3 X3\n",
            "Y3 X4\n",
            "Y3 Y1\n",
            "Y3 Y2\n",
            "Y3 Y4\n"
          ]
        }
      ]
    }
  ]
}